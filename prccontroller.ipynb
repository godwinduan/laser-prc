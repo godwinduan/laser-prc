{
 "cells": [
  {
   "cell_type": "code",
   "execution_count": 44,
   "id": "ade939e5-5e0d-4cca-a110-d72eae2566f6",
   "metadata": {},
   "outputs": [],
   "source": [
    "import pyvisa\n",
    "import numpy as np\n",
    "import time\n",
    "import random"
   ]
  },
  {
   "cell_type": "code",
   "execution_count": 32,
   "id": "1487cda7-6602-4894-b511-723e745a26f6",
   "metadata": {},
   "outputs": [
    {
     "name": "stdout",
     "output_type": "stream",
     "text": [
      "Resource Manager of Visa Library at py\n"
     ]
    },
    {
     "data": {
      "text/plain": [
       "('ASRL/dev/ttyS31::INSTR',\n",
       " 'ASRL/dev/ttyS30::INSTR',\n",
       " 'ASRL/dev/ttyS29::INSTR',\n",
       " 'ASRL/dev/ttyS28::INSTR',\n",
       " 'ASRL/dev/ttyS27::INSTR',\n",
       " 'ASRL/dev/ttyS26::INSTR',\n",
       " 'ASRL/dev/ttyS25::INSTR',\n",
       " 'ASRL/dev/ttyS24::INSTR',\n",
       " 'ASRL/dev/ttyS23::INSTR',\n",
       " 'ASRL/dev/ttyS22::INSTR',\n",
       " 'ASRL/dev/ttyS21::INSTR',\n",
       " 'ASRL/dev/ttyS20::INSTR',\n",
       " 'ASRL/dev/ttyS19::INSTR',\n",
       " 'ASRL/dev/ttyS18::INSTR',\n",
       " 'ASRL/dev/ttyS17::INSTR',\n",
       " 'ASRL/dev/ttyS16::INSTR',\n",
       " 'ASRL/dev/ttyS15::INSTR',\n",
       " 'ASRL/dev/ttyS14::INSTR',\n",
       " 'ASRL/dev/ttyS13::INSTR',\n",
       " 'ASRL/dev/ttyS12::INSTR',\n",
       " 'ASRL/dev/ttyS11::INSTR',\n",
       " 'ASRL/dev/ttyS10::INSTR',\n",
       " 'ASRL/dev/ttyS9::INSTR',\n",
       " 'ASRL/dev/ttyS8::INSTR',\n",
       " 'ASRL/dev/ttyS7::INSTR',\n",
       " 'ASRL/dev/ttyS6::INSTR',\n",
       " 'ASRL/dev/ttyS5::INSTR',\n",
       " 'ASRL/dev/ttyS4::INSTR',\n",
       " 'ASRL/dev/ttyS3::INSTR',\n",
       " 'ASRL/dev/ttyS2::INSTR',\n",
       " 'ASRL/dev/ttyS1::INSTR',\n",
       " 'ASRL/dev/ttyS0::INSTR',\n",
       " 'ASRL/dev/ttyACM1::INSTR')"
      ]
     },
     "execution_count": 32,
     "metadata": {},
     "output_type": "execute_result"
    }
   ],
   "source": [
    "rm = pyvisa.ResourceManager('@py')\n",
    "print(rm)\n",
    "rm.list_resources()"
   ]
  },
  {
   "cell_type": "code",
   "execution_count": 33,
   "id": "9262eb36-474d-4d38-be60-3440abe353db",
   "metadata": {},
   "outputs": [
    {
     "name": "stdout",
     "output_type": "stream",
     "text": [
      "SerialInstrument at ASRL/dev/ttyACM1::INSTR\n"
     ]
    }
   ],
   "source": [
    "inst = rm.open_resource('ASRL/dev/ttyACM1::INSTR')\n",
    "print(inst)"
   ]
  },
  {
   "cell_type": "code",
   "execution_count": 34,
   "id": "21a7a034-5000-4424-a29f-4b199ea2d9bb",
   "metadata": {},
   "outputs": [
    {
     "data": {
      "text/plain": [
       "24"
      ]
     },
     "execution_count": 34,
     "metadata": {},
     "output_type": "execute_result"
    }
   ],
   "source": [
    "values = [123,2351]\n",
    "inst.write_ascii_values('', values)\n",
    "#inst.write_ascii_values('', values, converter='f', separator=',') # does the same thing as above"
   ]
  },
  {
   "cell_type": "code",
   "execution_count": 35,
   "id": "1fba84e7-5ca9-46e8-83dd-9f91ddc0d462",
   "metadata": {},
   "outputs": [
    {
     "data": {
      "text/plain": [
       "11"
      ]
     },
     "execution_count": 35,
     "metadata": {},
     "output_type": "execute_result"
    }
   ],
   "source": [
    "inst.write('264,3219\\n')"
   ]
  },
  {
   "cell_type": "code",
   "execution_count": 35,
   "id": "bfdd9b1e-b42e-4075-a086-ab07ea32e946",
   "metadata": {},
   "outputs": [
    {
     "name": "stdout",
     "output_type": "stream",
     "text": [
      "[824.0, 803.0]\n"
     ]
    }
   ],
   "source": [
    "measurements = inst.read_ascii_values()\n",
    "print(measurements)"
   ]
  },
  {
   "cell_type": "code",
   "execution_count": 17,
   "id": "971e61dd-0eb6-40fa-b682-41d646079883",
   "metadata": {},
   "outputs": [
    {
     "ename": "VisaIOError",
     "evalue": "VI_ERROR_TMO (-1073807339): Timeout expired before operation completed.",
     "output_type": "error",
     "traceback": [
      "\u001b[31m---------------------------------------------------------------------------\u001b[39m",
      "\u001b[31mVisaIOError\u001b[39m                               Traceback (most recent call last)",
      "\u001b[36mCell\u001b[39m\u001b[36m \u001b[39m\u001b[32mIn[17]\u001b[39m\u001b[32m, line 1\u001b[39m\n\u001b[32m----> \u001b[39m\u001b[32m1\u001b[39m measurements = \u001b[43minst\u001b[49m\u001b[43m.\u001b[49m\u001b[43mread_ascii_values\u001b[49m\u001b[43m(\u001b[49m\u001b[43mcontainer\u001b[49m\u001b[43m=\u001b[49m\u001b[43mnp\u001b[49m\u001b[43m.\u001b[49m\u001b[43marray\u001b[49m\u001b[43m)\u001b[49m\n\u001b[32m      2\u001b[39m \u001b[38;5;28mprint\u001b[39m(measurements.dtype)\n\u001b[32m      3\u001b[39m \u001b[38;5;28mprint\u001b[39m(measurements)\n",
      "\u001b[36mFile \u001b[39m\u001b[32m~/Documents/Summer 2025/Research/prccontroller/.venv/lib64/python3.13/site-packages/pyvisa/resources/messagebased.py:562\u001b[39m, in \u001b[36mMessageBasedResource.read_ascii_values\u001b[39m\u001b[34m(self, converter, separator, container)\u001b[39m\n\u001b[32m    541\u001b[39m \u001b[38;5;250m\u001b[39m\u001b[33;03m\"\"\"Read values from the device in ascii format returning an iterable of\u001b[39;00m\n\u001b[32m    542\u001b[39m \u001b[33;03mvalues.\u001b[39;00m\n\u001b[32m    543\u001b[39m \n\u001b[32m   (...)\u001b[39m\u001b[32m    559\u001b[39m \n\u001b[32m    560\u001b[39m \u001b[33;03m\"\"\"\u001b[39;00m\n\u001b[32m    561\u001b[39m \u001b[38;5;66;03m# Use read rather than _read_raw because we cannot handle a bytearray\u001b[39;00m\n\u001b[32m--> \u001b[39m\u001b[32m562\u001b[39m block = \u001b[38;5;28;43mself\u001b[39;49m\u001b[43m.\u001b[49m\u001b[43mread\u001b[49m\u001b[43m(\u001b[49m\u001b[43m)\u001b[49m\n\u001b[32m    564\u001b[39m \u001b[38;5;28;01mreturn\u001b[39;00m util.from_ascii_block(block, converter, separator, container)\n",
      "\u001b[36mFile \u001b[39m\u001b[32m~/Documents/Summer 2025/Research/prccontroller/.venv/lib64/python3.13/site-packages/pyvisa/resources/messagebased.py:519\u001b[39m, in \u001b[36mMessageBasedResource.read\u001b[39m\u001b[34m(self, termination, encoding)\u001b[39m\n\u001b[32m    517\u001b[39m \u001b[38;5;28;01mif\u001b[39;00m termination \u001b[38;5;129;01mis\u001b[39;00m \u001b[38;5;28;01mNone\u001b[39;00m:\n\u001b[32m    518\u001b[39m     termination = \u001b[38;5;28mself\u001b[39m._read_termination\n\u001b[32m--> \u001b[39m\u001b[32m519\u001b[39m     message = \u001b[38;5;28;43mself\u001b[39;49m\u001b[43m.\u001b[49m\u001b[43m_read_raw\u001b[49m\u001b[43m(\u001b[49m\u001b[43m)\u001b[49m.decode(enco)\n\u001b[32m    520\u001b[39m \u001b[38;5;28;01melse\u001b[39;00m:\n\u001b[32m    521\u001b[39m     \u001b[38;5;28;01mwith\u001b[39;00m \u001b[38;5;28mself\u001b[39m.read_termination_context(termination):\n",
      "\u001b[36mFile \u001b[39m\u001b[32m~/Documents/Summer 2025/Research/prccontroller/.venv/lib64/python3.13/site-packages/pyvisa/resources/messagebased.py:473\u001b[39m, in \u001b[36mMessageBasedResource._read_raw\u001b[39m\u001b[34m(self, size, monitoring_interface)\u001b[39m\n\u001b[32m    466\u001b[39m \u001b[38;5;28;01mwhile\u001b[39;00m status == loop_status:\n\u001b[32m    467\u001b[39m     logger.debug(\n\u001b[32m    468\u001b[39m         \u001b[33m\"\u001b[39m\u001b[38;5;132;01m%s\u001b[39;00m\u001b[33m - reading \u001b[39m\u001b[38;5;132;01m%d\u001b[39;00m\u001b[33m bytes (last status \u001b[39m\u001b[38;5;132;01m%r\u001b[39;00m\u001b[33m)\u001b[39m\u001b[33m\"\u001b[39m,\n\u001b[32m    469\u001b[39m         \u001b[38;5;28mself\u001b[39m._resource_name,\n\u001b[32m    470\u001b[39m         size,\n\u001b[32m    471\u001b[39m         status,\n\u001b[32m    472\u001b[39m     )\n\u001b[32m--> \u001b[39m\u001b[32m473\u001b[39m     chunk, status = \u001b[38;5;28;43mself\u001b[39;49m\u001b[43m.\u001b[49m\u001b[43mvisalib\u001b[49m\u001b[43m.\u001b[49m\u001b[43mread\u001b[49m\u001b[43m(\u001b[49m\u001b[38;5;28;43mself\u001b[39;49m\u001b[43m.\u001b[49m\u001b[43msession\u001b[49m\u001b[43m,\u001b[49m\u001b[43m \u001b[49m\u001b[43msize\u001b[49m\u001b[43m)\u001b[49m\n\u001b[32m    474\u001b[39m     \u001b[38;5;28;01mif\u001b[39;00m monitoring_interface:\n\u001b[32m    475\u001b[39m         monitoring_interface.update(\u001b[38;5;28mlen\u001b[39m(chunk))\n",
      "\u001b[36mFile \u001b[39m\u001b[32m~/Documents/Summer 2025/Research/prccontroller/.venv/lib64/python3.13/site-packages/pyvisa_py/highlevel.py:550\u001b[39m, in \u001b[36mPyVisaLibrary.read\u001b[39m\u001b[34m(self, session, count)\u001b[39m\n\u001b[32m    544\u001b[39m \u001b[38;5;28;01mexcept\u001b[39;00m \u001b[38;5;167;01mKeyError\u001b[39;00m:\n\u001b[32m    545\u001b[39m     \u001b[38;5;28;01mreturn\u001b[39;00m (\n\u001b[32m    546\u001b[39m         \u001b[33mb\u001b[39m\u001b[33m\"\u001b[39m\u001b[33m\"\u001b[39m,\n\u001b[32m    547\u001b[39m         \u001b[38;5;28mself\u001b[39m.handle_return_value(session, StatusCode.error_invalid_object),\n\u001b[32m    548\u001b[39m     )\n\u001b[32m--> \u001b[39m\u001b[32m550\u001b[39m \u001b[38;5;28;01mreturn\u001b[39;00m data, \u001b[38;5;28;43mself\u001b[39;49m\u001b[43m.\u001b[49m\u001b[43mhandle_return_value\u001b[49m\u001b[43m(\u001b[49m\u001b[43msession\u001b[49m\u001b[43m,\u001b[49m\u001b[43m \u001b[49m\u001b[43mstatus_code\u001b[49m\u001b[43m)\u001b[49m\n",
      "\u001b[36mFile \u001b[39m\u001b[32m~/Documents/Summer 2025/Research/prccontroller/.venv/lib64/python3.13/site-packages/pyvisa/highlevel.py:252\u001b[39m, in \u001b[36mVisaLibraryBase.handle_return_value\u001b[39m\u001b[34m(self, session, status_code)\u001b[39m\n\u001b[32m    249\u001b[39m     \u001b[38;5;28mself\u001b[39m._last_status_in_session[session] = rv\n\u001b[32m    251\u001b[39m \u001b[38;5;28;01mif\u001b[39;00m rv < \u001b[32m0\u001b[39m:\n\u001b[32m--> \u001b[39m\u001b[32m252\u001b[39m     \u001b[38;5;28;01mraise\u001b[39;00m errors.VisaIOError(rv)\n\u001b[32m    254\u001b[39m \u001b[38;5;28;01mif\u001b[39;00m rv \u001b[38;5;129;01min\u001b[39;00m \u001b[38;5;28mself\u001b[39m.issue_warning_on:\n\u001b[32m    255\u001b[39m     \u001b[38;5;28;01mif\u001b[39;00m session \u001b[38;5;129;01mand\u001b[39;00m rv \u001b[38;5;129;01mnot\u001b[39;00m \u001b[38;5;129;01min\u001b[39;00m \u001b[38;5;28mself\u001b[39m._ignore_warning_in_session[session]:\n",
      "\u001b[31mVisaIOError\u001b[39m: VI_ERROR_TMO (-1073807339): Timeout expired before operation completed."
     ]
    }
   ],
   "source": [
    "measurements = inst.read_ascii_values(container=np.array)\n",
    "print(measurements.dtype)\n",
    "print(measurements)"
   ]
  },
  {
   "cell_type": "code",
   "execution_count": 49,
   "id": "ab46d88a-339f-417a-af94-4c4cbab1e81b",
   "metadata": {},
   "outputs": [
    {
     "name": "stdout",
     "output_type": "stream",
     "text": [
      "123,2351\n",
      "\n"
     ]
    }
   ],
   "source": [
    "print(inst.read())"
   ]
  },
  {
   "cell_type": "code",
   "execution_count": 45,
   "id": "16343323-6626-4bba-8b28-644009922e0b",
   "metadata": {},
   "outputs": [
    {
     "name": "stdout",
     "output_type": "stream",
     "text": [
      "1000 iterations took 0.5769174098968506 s.\n",
      "1733.3503597660435 iterations/s.\n"
     ]
    }
   ],
   "source": [
    "# Test how fast this thing can loop\n",
    "# Fixed number of iterations\n",
    "t0 = time.time()\n",
    "iterations = 1000\n",
    "for i in range(iterations):\n",
    "    values = [0,0]\n",
    "    values[0] = random.randint(0,4095)\n",
    "    values[1] = random.randint(0,4095)\n",
    "    inst.write_ascii_values('', values)\n",
    "    measurements = inst.read_ascii_values()\n",
    "    #print(measurements)\n",
    "\n",
    "t1 = time.time()\n",
    "total = t1-t0\n",
    "print(iterations, \"iterations took\", total, \"s.\")\n",
    "print(iterations / total, \"iterations/s.\")\n"
   ]
  },
  {
   "cell_type": "code",
   "execution_count": null,
   "id": "1c201b1b-b8ef-4958-83af-b32fb0af65dd",
   "metadata": {},
   "outputs": [],
   "source": []
  }
 ],
 "metadata": {
  "kernelspec": {
   "display_name": "Python 3 (ipykernel)",
   "language": "python",
   "name": "python3"
  },
  "language_info": {
   "codemirror_mode": {
    "name": "ipython",
    "version": 3
   },
   "file_extension": ".py",
   "mimetype": "text/x-python",
   "name": "python",
   "nbconvert_exporter": "python",
   "pygments_lexer": "ipython3",
   "version": "3.13.3"
  }
 },
 "nbformat": 4,
 "nbformat_minor": 5
}
