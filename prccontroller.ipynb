{
 "cells": [
  {
   "cell_type": "code",
   "execution_count": 5,
   "id": "ade939e5-5e0d-4cca-a110-d72eae2566f6",
   "metadata": {},
   "outputs": [],
   "source": [
    "import pyvisa"
   ]
  },
  {
   "cell_type": "code",
   "execution_count": 6,
   "id": "1487cda7-6602-4894-b511-723e745a26f6",
   "metadata": {},
   "outputs": [
    {
     "name": "stdout",
     "output_type": "stream",
     "text": [
      "Resource Manager of Visa Library at py\n"
     ]
    },
    {
     "data": {
      "text/plain": [
       "('ASRL/dev/ttyS31::INSTR',\n",
       " 'ASRL/dev/ttyS30::INSTR',\n",
       " 'ASRL/dev/ttyS29::INSTR',\n",
       " 'ASRL/dev/ttyS28::INSTR',\n",
       " 'ASRL/dev/ttyS27::INSTR',\n",
       " 'ASRL/dev/ttyS26::INSTR',\n",
       " 'ASRL/dev/ttyS25::INSTR',\n",
       " 'ASRL/dev/ttyS24::INSTR',\n",
       " 'ASRL/dev/ttyS23::INSTR',\n",
       " 'ASRL/dev/ttyS22::INSTR',\n",
       " 'ASRL/dev/ttyS21::INSTR',\n",
       " 'ASRL/dev/ttyS20::INSTR',\n",
       " 'ASRL/dev/ttyS19::INSTR',\n",
       " 'ASRL/dev/ttyS18::INSTR',\n",
       " 'ASRL/dev/ttyS17::INSTR',\n",
       " 'ASRL/dev/ttyS16::INSTR',\n",
       " 'ASRL/dev/ttyS15::INSTR',\n",
       " 'ASRL/dev/ttyS14::INSTR',\n",
       " 'ASRL/dev/ttyS13::INSTR',\n",
       " 'ASRL/dev/ttyS12::INSTR',\n",
       " 'ASRL/dev/ttyS11::INSTR',\n",
       " 'ASRL/dev/ttyS10::INSTR',\n",
       " 'ASRL/dev/ttyS9::INSTR',\n",
       " 'ASRL/dev/ttyS8::INSTR',\n",
       " 'ASRL/dev/ttyS7::INSTR',\n",
       " 'ASRL/dev/ttyS6::INSTR',\n",
       " 'ASRL/dev/ttyS5::INSTR',\n",
       " 'ASRL/dev/ttyS4::INSTR',\n",
       " 'ASRL/dev/ttyS3::INSTR',\n",
       " 'ASRL/dev/ttyS2::INSTR',\n",
       " 'ASRL/dev/ttyS1::INSTR',\n",
       " 'ASRL/dev/ttyS0::INSTR',\n",
       " 'ASRL/dev/ttyACM0::INSTR')"
      ]
     },
     "execution_count": 6,
     "metadata": {},
     "output_type": "execute_result"
    }
   ],
   "source": [
    "rm = pyvisa.ResourceManager('@py')\n",
    "print(rm)\n",
    "rm.list_resources()"
   ]
  },
  {
   "cell_type": "code",
   "execution_count": 26,
   "id": "9262eb36-474d-4d38-be60-3440abe353db",
   "metadata": {},
   "outputs": [],
   "source": [
    "inst = rm.open_resource('ASRL/dev/ttyACM1::INSTR')"
   ]
  },
  {
   "cell_type": "code",
   "execution_count": 22,
   "id": "e944d685-f099-4dac-896f-a9c55fcca7fb",
   "metadata": {},
   "outputs": [
    {
     "name": "stdout",
     "output_type": "stream",
     "text": [
      "SerialInstrument at ASRL/dev/ttyACM1::INSTR\n"
     ]
    }
   ],
   "source": [
    "print(inst)"
   ]
  },
  {
   "cell_type": "code",
   "execution_count": 23,
   "id": "1fba84e7-5ca9-46e8-83dd-9f91ddc0d462",
   "metadata": {},
   "outputs": [
    {
     "data": {
      "text/plain": [
       "8"
      ]
     },
     "execution_count": 23,
     "metadata": {},
     "output_type": "execute_result"
    }
   ],
   "source": [
    "inst.write('three\\n')"
   ]
  },
  {
   "cell_type": "code",
   "execution_count": 24,
   "id": "ab46d88a-339f-417a-af94-4c4cbab1e81b",
   "metadata": {},
   "outputs": [
    {
     "name": "stdout",
     "output_type": "stream",
     "text": [
      "hey\n",
      "\n"
     ]
    }
   ],
   "source": [
    "print(inst.read())"
   ]
  },
  {
   "cell_type": "code",
   "execution_count": 25,
   "id": "c6513a8d-148e-41a5-a0c1-92f804799058",
   "metadata": {},
   "outputs": [
    {
     "ename": "VisaIOError",
     "evalue": "VI_ERROR_TMO (-1073807339): Timeout expired before operation completed.",
     "output_type": "error",
     "traceback": [
      "\u001b[31m---------------------------------------------------------------------------\u001b[39m",
      "\u001b[31mVisaIOError\u001b[39m                               Traceback (most recent call last)",
      "\u001b[36mCell\u001b[39m\u001b[36m \u001b[39m\u001b[32mIn[25]\u001b[39m\u001b[32m, line 1\u001b[39m\n\u001b[32m----> \u001b[39m\u001b[32m1\u001b[39m \u001b[38;5;28mprint\u001b[39m(\u001b[43minst\u001b[49m\u001b[43m.\u001b[49m\u001b[43mquery\u001b[49m\u001b[43m(\u001b[49m\u001b[33;43m'\u001b[39;49m\u001b[33;43mfour\u001b[39;49m\u001b[38;5;130;43;01m\\n\u001b[39;49;00m\u001b[33;43m'\u001b[39;49m\u001b[43m)\u001b[49m)\n",
      "\u001b[36mFile \u001b[39m\u001b[32m~/Documents/Summer 2025/Research/prccontroller/.venv/lib64/python3.13/site-packages/pyvisa/resources/messagebased.py:690\u001b[39m, in \u001b[36mMessageBasedResource.query\u001b[39m\u001b[34m(self, message, delay)\u001b[39m\n\u001b[32m    687\u001b[39m \u001b[38;5;28;01mif\u001b[39;00m delay > \u001b[32m0.0\u001b[39m:\n\u001b[32m    688\u001b[39m     time.sleep(delay)\n\u001b[32m--> \u001b[39m\u001b[32m690\u001b[39m \u001b[38;5;28;01mreturn\u001b[39;00m \u001b[38;5;28;43mself\u001b[39;49m\u001b[43m.\u001b[49m\u001b[43mread\u001b[49m\u001b[43m(\u001b[49m\u001b[43m)\u001b[49m\n",
      "\u001b[36mFile \u001b[39m\u001b[32m~/Documents/Summer 2025/Research/prccontroller/.venv/lib64/python3.13/site-packages/pyvisa/resources/messagebased.py:519\u001b[39m, in \u001b[36mMessageBasedResource.read\u001b[39m\u001b[34m(self, termination, encoding)\u001b[39m\n\u001b[32m    517\u001b[39m \u001b[38;5;28;01mif\u001b[39;00m termination \u001b[38;5;129;01mis\u001b[39;00m \u001b[38;5;28;01mNone\u001b[39;00m:\n\u001b[32m    518\u001b[39m     termination = \u001b[38;5;28mself\u001b[39m._read_termination\n\u001b[32m--> \u001b[39m\u001b[32m519\u001b[39m     message = \u001b[38;5;28;43mself\u001b[39;49m\u001b[43m.\u001b[49m\u001b[43m_read_raw\u001b[49m\u001b[43m(\u001b[49m\u001b[43m)\u001b[49m.decode(enco)\n\u001b[32m    520\u001b[39m \u001b[38;5;28;01melse\u001b[39;00m:\n\u001b[32m    521\u001b[39m     \u001b[38;5;28;01mwith\u001b[39;00m \u001b[38;5;28mself\u001b[39m.read_termination_context(termination):\n",
      "\u001b[36mFile \u001b[39m\u001b[32m~/Documents/Summer 2025/Research/prccontroller/.venv/lib64/python3.13/site-packages/pyvisa/resources/messagebased.py:473\u001b[39m, in \u001b[36mMessageBasedResource._read_raw\u001b[39m\u001b[34m(self, size, monitoring_interface)\u001b[39m\n\u001b[32m    466\u001b[39m \u001b[38;5;28;01mwhile\u001b[39;00m status == loop_status:\n\u001b[32m    467\u001b[39m     logger.debug(\n\u001b[32m    468\u001b[39m         \u001b[33m\"\u001b[39m\u001b[38;5;132;01m%s\u001b[39;00m\u001b[33m - reading \u001b[39m\u001b[38;5;132;01m%d\u001b[39;00m\u001b[33m bytes (last status \u001b[39m\u001b[38;5;132;01m%r\u001b[39;00m\u001b[33m)\u001b[39m\u001b[33m\"\u001b[39m,\n\u001b[32m    469\u001b[39m         \u001b[38;5;28mself\u001b[39m._resource_name,\n\u001b[32m    470\u001b[39m         size,\n\u001b[32m    471\u001b[39m         status,\n\u001b[32m    472\u001b[39m     )\n\u001b[32m--> \u001b[39m\u001b[32m473\u001b[39m     chunk, status = \u001b[38;5;28;43mself\u001b[39;49m\u001b[43m.\u001b[49m\u001b[43mvisalib\u001b[49m\u001b[43m.\u001b[49m\u001b[43mread\u001b[49m\u001b[43m(\u001b[49m\u001b[38;5;28;43mself\u001b[39;49m\u001b[43m.\u001b[49m\u001b[43msession\u001b[49m\u001b[43m,\u001b[49m\u001b[43m \u001b[49m\u001b[43msize\u001b[49m\u001b[43m)\u001b[49m\n\u001b[32m    474\u001b[39m     \u001b[38;5;28;01mif\u001b[39;00m monitoring_interface:\n\u001b[32m    475\u001b[39m         monitoring_interface.update(\u001b[38;5;28mlen\u001b[39m(chunk))\n",
      "\u001b[36mFile \u001b[39m\u001b[32m~/Documents/Summer 2025/Research/prccontroller/.venv/lib64/python3.13/site-packages/pyvisa_py/highlevel.py:550\u001b[39m, in \u001b[36mPyVisaLibrary.read\u001b[39m\u001b[34m(self, session, count)\u001b[39m\n\u001b[32m    544\u001b[39m \u001b[38;5;28;01mexcept\u001b[39;00m \u001b[38;5;167;01mKeyError\u001b[39;00m:\n\u001b[32m    545\u001b[39m     \u001b[38;5;28;01mreturn\u001b[39;00m (\n\u001b[32m    546\u001b[39m         \u001b[33mb\u001b[39m\u001b[33m\"\u001b[39m\u001b[33m\"\u001b[39m,\n\u001b[32m    547\u001b[39m         \u001b[38;5;28mself\u001b[39m.handle_return_value(session, StatusCode.error_invalid_object),\n\u001b[32m    548\u001b[39m     )\n\u001b[32m--> \u001b[39m\u001b[32m550\u001b[39m \u001b[38;5;28;01mreturn\u001b[39;00m data, \u001b[38;5;28;43mself\u001b[39;49m\u001b[43m.\u001b[49m\u001b[43mhandle_return_value\u001b[49m\u001b[43m(\u001b[49m\u001b[43msession\u001b[49m\u001b[43m,\u001b[49m\u001b[43m \u001b[49m\u001b[43mstatus_code\u001b[49m\u001b[43m)\u001b[49m\n",
      "\u001b[36mFile \u001b[39m\u001b[32m~/Documents/Summer 2025/Research/prccontroller/.venv/lib64/python3.13/site-packages/pyvisa/highlevel.py:252\u001b[39m, in \u001b[36mVisaLibraryBase.handle_return_value\u001b[39m\u001b[34m(self, session, status_code)\u001b[39m\n\u001b[32m    249\u001b[39m     \u001b[38;5;28mself\u001b[39m._last_status_in_session[session] = rv\n\u001b[32m    251\u001b[39m \u001b[38;5;28;01mif\u001b[39;00m rv < \u001b[32m0\u001b[39m:\n\u001b[32m--> \u001b[39m\u001b[32m252\u001b[39m     \u001b[38;5;28;01mraise\u001b[39;00m errors.VisaIOError(rv)\n\u001b[32m    254\u001b[39m \u001b[38;5;28;01mif\u001b[39;00m rv \u001b[38;5;129;01min\u001b[39;00m \u001b[38;5;28mself\u001b[39m.issue_warning_on:\n\u001b[32m    255\u001b[39m     \u001b[38;5;28;01mif\u001b[39;00m session \u001b[38;5;129;01mand\u001b[39;00m rv \u001b[38;5;129;01mnot\u001b[39;00m \u001b[38;5;129;01min\u001b[39;00m \u001b[38;5;28mself\u001b[39m._ignore_warning_in_session[session]:\n",
      "\u001b[31mVisaIOError\u001b[39m: VI_ERROR_TMO (-1073807339): Timeout expired before operation completed."
     ]
    }
   ],
   "source": [
    "print(inst.query('four\\n'))"
   ]
  },
  {
   "cell_type": "code",
   "execution_count": 30,
   "id": "4eb0c3be-bf3e-4c4e-8eb3-23ce4cd938e6",
   "metadata": {},
   "outputs": [
    {
     "data": {
      "text/plain": [
       "6"
      ]
     },
     "execution_count": 30,
     "metadata": {},
     "output_type": "execute_result"
    }
   ],
   "source": [
    "inst.write('one\\n')"
   ]
  },
  {
   "cell_type": "code",
   "execution_count": 31,
   "id": "eef22bf1-f0f2-439a-ab7b-b6483303ee1a",
   "metadata": {},
   "outputs": [
    {
     "ename": "VisaIOError",
     "evalue": "VI_ERROR_TMO (-1073807339): Timeout expired before operation completed.",
     "output_type": "error",
     "traceback": [
      "\u001b[31m---------------------------------------------------------------------------\u001b[39m",
      "\u001b[31mVisaIOError\u001b[39m                               Traceback (most recent call last)",
      "\u001b[36mCell\u001b[39m\u001b[36m \u001b[39m\u001b[32mIn[31]\u001b[39m\u001b[32m, line 1\u001b[39m\n\u001b[32m----> \u001b[39m\u001b[32m1\u001b[39m data = \u001b[43minst\u001b[49m\u001b[43m.\u001b[49m\u001b[43mread_raw\u001b[49m\u001b[43m(\u001b[49m\u001b[43m)\u001b[49m\n",
      "\u001b[36mFile \u001b[39m\u001b[32m~/Documents/Summer 2025/Research/prccontroller/.venv/lib64/python3.13/site-packages/pyvisa/resources/messagebased.py:428\u001b[39m, in \u001b[36mMessageBasedResource.read_raw\u001b[39m\u001b[34m(self, size)\u001b[39m\n\u001b[32m    411\u001b[39m \u001b[38;5;28;01mdef\u001b[39;00m\u001b[38;5;250m \u001b[39m\u001b[34mread_raw\u001b[39m(\u001b[38;5;28mself\u001b[39m, size: Optional[\u001b[38;5;28mint\u001b[39m] = \u001b[38;5;28;01mNone\u001b[39;00m) -> \u001b[38;5;28mbytes\u001b[39m:\n\u001b[32m    412\u001b[39m \u001b[38;5;250m    \u001b[39m\u001b[33;03m\"\"\"Read the unmodified string sent from the instrument to the computer.\u001b[39;00m\n\u001b[32m    413\u001b[39m \n\u001b[32m    414\u001b[39m \u001b[33;03m    In contrast to read(), no termination characters are stripped.\u001b[39;00m\n\u001b[32m   (...)\u001b[39m\u001b[32m    426\u001b[39m \n\u001b[32m    427\u001b[39m \u001b[33;03m    \"\"\"\u001b[39;00m\n\u001b[32m--> \u001b[39m\u001b[32m428\u001b[39m     \u001b[38;5;28;01mreturn\u001b[39;00m \u001b[38;5;28mbytes\u001b[39m(\u001b[38;5;28;43mself\u001b[39;49m\u001b[43m.\u001b[49m\u001b[43m_read_raw\u001b[49m\u001b[43m(\u001b[49m\u001b[43msize\u001b[49m\u001b[43m)\u001b[49m)\n",
      "\u001b[36mFile \u001b[39m\u001b[32m~/Documents/Summer 2025/Research/prccontroller/.venv/lib64/python3.13/site-packages/pyvisa/resources/messagebased.py:473\u001b[39m, in \u001b[36mMessageBasedResource._read_raw\u001b[39m\u001b[34m(self, size, monitoring_interface)\u001b[39m\n\u001b[32m    466\u001b[39m \u001b[38;5;28;01mwhile\u001b[39;00m status == loop_status:\n\u001b[32m    467\u001b[39m     logger.debug(\n\u001b[32m    468\u001b[39m         \u001b[33m\"\u001b[39m\u001b[38;5;132;01m%s\u001b[39;00m\u001b[33m - reading \u001b[39m\u001b[38;5;132;01m%d\u001b[39;00m\u001b[33m bytes (last status \u001b[39m\u001b[38;5;132;01m%r\u001b[39;00m\u001b[33m)\u001b[39m\u001b[33m\"\u001b[39m,\n\u001b[32m    469\u001b[39m         \u001b[38;5;28mself\u001b[39m._resource_name,\n\u001b[32m    470\u001b[39m         size,\n\u001b[32m    471\u001b[39m         status,\n\u001b[32m    472\u001b[39m     )\n\u001b[32m--> \u001b[39m\u001b[32m473\u001b[39m     chunk, status = \u001b[38;5;28;43mself\u001b[39;49m\u001b[43m.\u001b[49m\u001b[43mvisalib\u001b[49m\u001b[43m.\u001b[49m\u001b[43mread\u001b[49m\u001b[43m(\u001b[49m\u001b[38;5;28;43mself\u001b[39;49m\u001b[43m.\u001b[49m\u001b[43msession\u001b[49m\u001b[43m,\u001b[49m\u001b[43m \u001b[49m\u001b[43msize\u001b[49m\u001b[43m)\u001b[49m\n\u001b[32m    474\u001b[39m     \u001b[38;5;28;01mif\u001b[39;00m monitoring_interface:\n\u001b[32m    475\u001b[39m         monitoring_interface.update(\u001b[38;5;28mlen\u001b[39m(chunk))\n",
      "\u001b[36mFile \u001b[39m\u001b[32m~/Documents/Summer 2025/Research/prccontroller/.venv/lib64/python3.13/site-packages/pyvisa_py/highlevel.py:550\u001b[39m, in \u001b[36mPyVisaLibrary.read\u001b[39m\u001b[34m(self, session, count)\u001b[39m\n\u001b[32m    544\u001b[39m \u001b[38;5;28;01mexcept\u001b[39;00m \u001b[38;5;167;01mKeyError\u001b[39;00m:\n\u001b[32m    545\u001b[39m     \u001b[38;5;28;01mreturn\u001b[39;00m (\n\u001b[32m    546\u001b[39m         \u001b[33mb\u001b[39m\u001b[33m\"\u001b[39m\u001b[33m\"\u001b[39m,\n\u001b[32m    547\u001b[39m         \u001b[38;5;28mself\u001b[39m.handle_return_value(session, StatusCode.error_invalid_object),\n\u001b[32m    548\u001b[39m     )\n\u001b[32m--> \u001b[39m\u001b[32m550\u001b[39m \u001b[38;5;28;01mreturn\u001b[39;00m data, \u001b[38;5;28;43mself\u001b[39;49m\u001b[43m.\u001b[49m\u001b[43mhandle_return_value\u001b[49m\u001b[43m(\u001b[49m\u001b[43msession\u001b[49m\u001b[43m,\u001b[49m\u001b[43m \u001b[49m\u001b[43mstatus_code\u001b[49m\u001b[43m)\u001b[49m\n",
      "\u001b[36mFile \u001b[39m\u001b[32m~/Documents/Summer 2025/Research/prccontroller/.venv/lib64/python3.13/site-packages/pyvisa/highlevel.py:252\u001b[39m, in \u001b[36mVisaLibraryBase.handle_return_value\u001b[39m\u001b[34m(self, session, status_code)\u001b[39m\n\u001b[32m    249\u001b[39m     \u001b[38;5;28mself\u001b[39m._last_status_in_session[session] = rv\n\u001b[32m    251\u001b[39m \u001b[38;5;28;01mif\u001b[39;00m rv < \u001b[32m0\u001b[39m:\n\u001b[32m--> \u001b[39m\u001b[32m252\u001b[39m     \u001b[38;5;28;01mraise\u001b[39;00m errors.VisaIOError(rv)\n\u001b[32m    254\u001b[39m \u001b[38;5;28;01mif\u001b[39;00m rv \u001b[38;5;129;01min\u001b[39;00m \u001b[38;5;28mself\u001b[39m.issue_warning_on:\n\u001b[32m    255\u001b[39m     \u001b[38;5;28;01mif\u001b[39;00m session \u001b[38;5;129;01mand\u001b[39;00m rv \u001b[38;5;129;01mnot\u001b[39;00m \u001b[38;5;129;01min\u001b[39;00m \u001b[38;5;28mself\u001b[39m._ignore_warning_in_session[session]:\n",
      "\u001b[31mVisaIOError\u001b[39m: VI_ERROR_TMO (-1073807339): Timeout expired before operation completed."
     ]
    }
   ],
   "source": [
    "data = inst.read_raw()"
   ]
  },
  {
   "cell_type": "code",
   "execution_count": 28,
   "id": "584e0241-92be-437f-b13b-d5b7bb30473e",
   "metadata": {},
   "outputs": [
    {
     "ename": "VisaIOError",
     "evalue": "VI_ERROR_TMO (-1073807339): Timeout expired before operation completed.",
     "output_type": "error",
     "traceback": [
      "\u001b[31m---------------------------------------------------------------------------\u001b[39m",
      "\u001b[31mVisaIOError\u001b[39m                               Traceback (most recent call last)",
      "\u001b[36mCell\u001b[39m\u001b[36m \u001b[39m\u001b[32mIn[28]\u001b[39m\u001b[32m, line 2\u001b[39m\n\u001b[32m      1\u001b[39m \u001b[38;5;66;03m#values = inst.query_binary_values('CURV?', datatype='d', is_big_endian=True)\u001b[39;00m\n\u001b[32m----> \u001b[39m\u001b[32m2\u001b[39m values = \u001b[43minst\u001b[49m\u001b[43m.\u001b[49m\u001b[43mread_binary_values\u001b[49m\u001b[43m(\u001b[49m\u001b[43mdatatype\u001b[49m\u001b[43m=\u001b[49m\u001b[33;43m'\u001b[39;49m\u001b[33;43mH\u001b[39;49m\u001b[33;43m'\u001b[39;49m\u001b[43m,\u001b[49m\u001b[43m \u001b[49m\u001b[43mis_big_endian\u001b[49m\u001b[43m=\u001b[49m\u001b[38;5;28;43;01mFalse\u001b[39;49;00m\u001b[43m,\u001b[49m\u001b[43m \u001b[49m\u001b[43mdata_points\u001b[49m\u001b[43m=\u001b[49m\u001b[32;43m2\u001b[39;49m\u001b[43m,\u001b[49m\u001b[43m \u001b[49m\u001b[43mexpect_termination\u001b[49m\u001b[43m=\u001b[49m\u001b[38;5;28;43;01mFalse\u001b[39;49;00m\u001b[43m)\u001b[49m\n",
      "\u001b[36mFile \u001b[39m\u001b[32m~/Documents/Summer 2025/Research/prccontroller/.venv/lib64/python3.13/site-packages/pyvisa/resources/messagebased.py:613\u001b[39m, in \u001b[36mMessageBasedResource.read_binary_values\u001b[39m\u001b[34m(self, datatype, is_big_endian, container, header_fmt, expect_termination, data_points, chunk_size, monitoring_interface)\u001b[39m\n\u001b[32m    566\u001b[39m \u001b[38;5;28;01mdef\u001b[39;00m\u001b[38;5;250m \u001b[39m\u001b[34mread_binary_values\u001b[39m(\n\u001b[32m    567\u001b[39m     \u001b[38;5;28mself\u001b[39m,\n\u001b[32m    568\u001b[39m     datatype: util.BINARY_DATATYPES = \u001b[33m\"\u001b[39m\u001b[33mf\u001b[39m\u001b[33m\"\u001b[39m,\n\u001b[32m   (...)\u001b[39m\u001b[32m    575\u001b[39m     monitoring_interface: Optional[SupportsUpdate] = \u001b[38;5;28;01mNone\u001b[39;00m,\n\u001b[32m    576\u001b[39m ) -> Sequence[Union[\u001b[38;5;28mint\u001b[39m, \u001b[38;5;28mfloat\u001b[39m]]:\n\u001b[32m    577\u001b[39m \u001b[38;5;250m    \u001b[39m\u001b[33;03m\"\"\"Read values from the device in binary format returning an iterable\u001b[39;00m\n\u001b[32m    578\u001b[39m \u001b[33;03m    of values.\u001b[39;00m\n\u001b[32m    579\u001b[39m \n\u001b[32m   (...)\u001b[39m\u001b[32m    611\u001b[39m \n\u001b[32m    612\u001b[39m \u001b[33;03m    \"\"\"\u001b[39;00m\n\u001b[32m--> \u001b[39m\u001b[32m613\u001b[39m     block = \u001b[38;5;28;43mself\u001b[39;49m\u001b[43m.\u001b[49m\u001b[43m_read_raw\u001b[49m\u001b[43m(\u001b[49m\u001b[43mchunk_size\u001b[49m\u001b[43m,\u001b[49m\u001b[43m \u001b[49m\u001b[43mmonitoring_interface\u001b[49m\u001b[43m=\u001b[49m\u001b[43mmonitoring_interface\u001b[49m\u001b[43m)\u001b[49m\n\u001b[32m    615\u001b[39m     \u001b[38;5;28;01mif\u001b[39;00m header_fmt == \u001b[33m\"\u001b[39m\u001b[33mieee\u001b[39m\u001b[33m\"\u001b[39m:\n\u001b[32m    616\u001b[39m         offset, data_length = util.parse_ieee_block_header(block)\n",
      "\u001b[36mFile \u001b[39m\u001b[32m~/Documents/Summer 2025/Research/prccontroller/.venv/lib64/python3.13/site-packages/pyvisa/resources/messagebased.py:473\u001b[39m, in \u001b[36mMessageBasedResource._read_raw\u001b[39m\u001b[34m(self, size, monitoring_interface)\u001b[39m\n\u001b[32m    466\u001b[39m \u001b[38;5;28;01mwhile\u001b[39;00m status == loop_status:\n\u001b[32m    467\u001b[39m     logger.debug(\n\u001b[32m    468\u001b[39m         \u001b[33m\"\u001b[39m\u001b[38;5;132;01m%s\u001b[39;00m\u001b[33m - reading \u001b[39m\u001b[38;5;132;01m%d\u001b[39;00m\u001b[33m bytes (last status \u001b[39m\u001b[38;5;132;01m%r\u001b[39;00m\u001b[33m)\u001b[39m\u001b[33m\"\u001b[39m,\n\u001b[32m    469\u001b[39m         \u001b[38;5;28mself\u001b[39m._resource_name,\n\u001b[32m    470\u001b[39m         size,\n\u001b[32m    471\u001b[39m         status,\n\u001b[32m    472\u001b[39m     )\n\u001b[32m--> \u001b[39m\u001b[32m473\u001b[39m     chunk, status = \u001b[38;5;28;43mself\u001b[39;49m\u001b[43m.\u001b[49m\u001b[43mvisalib\u001b[49m\u001b[43m.\u001b[49m\u001b[43mread\u001b[49m\u001b[43m(\u001b[49m\u001b[38;5;28;43mself\u001b[39;49m\u001b[43m.\u001b[49m\u001b[43msession\u001b[49m\u001b[43m,\u001b[49m\u001b[43m \u001b[49m\u001b[43msize\u001b[49m\u001b[43m)\u001b[49m\n\u001b[32m    474\u001b[39m     \u001b[38;5;28;01mif\u001b[39;00m monitoring_interface:\n\u001b[32m    475\u001b[39m         monitoring_interface.update(\u001b[38;5;28mlen\u001b[39m(chunk))\n",
      "\u001b[36mFile \u001b[39m\u001b[32m~/Documents/Summer 2025/Research/prccontroller/.venv/lib64/python3.13/site-packages/pyvisa_py/highlevel.py:550\u001b[39m, in \u001b[36mPyVisaLibrary.read\u001b[39m\u001b[34m(self, session, count)\u001b[39m\n\u001b[32m    544\u001b[39m \u001b[38;5;28;01mexcept\u001b[39;00m \u001b[38;5;167;01mKeyError\u001b[39;00m:\n\u001b[32m    545\u001b[39m     \u001b[38;5;28;01mreturn\u001b[39;00m (\n\u001b[32m    546\u001b[39m         \u001b[33mb\u001b[39m\u001b[33m\"\u001b[39m\u001b[33m\"\u001b[39m,\n\u001b[32m    547\u001b[39m         \u001b[38;5;28mself\u001b[39m.handle_return_value(session, StatusCode.error_invalid_object),\n\u001b[32m    548\u001b[39m     )\n\u001b[32m--> \u001b[39m\u001b[32m550\u001b[39m \u001b[38;5;28;01mreturn\u001b[39;00m data, \u001b[38;5;28;43mself\u001b[39;49m\u001b[43m.\u001b[49m\u001b[43mhandle_return_value\u001b[49m\u001b[43m(\u001b[49m\u001b[43msession\u001b[49m\u001b[43m,\u001b[49m\u001b[43m \u001b[49m\u001b[43mstatus_code\u001b[49m\u001b[43m)\u001b[49m\n",
      "\u001b[36mFile \u001b[39m\u001b[32m~/Documents/Summer 2025/Research/prccontroller/.venv/lib64/python3.13/site-packages/pyvisa/highlevel.py:252\u001b[39m, in \u001b[36mVisaLibraryBase.handle_return_value\u001b[39m\u001b[34m(self, session, status_code)\u001b[39m\n\u001b[32m    249\u001b[39m     \u001b[38;5;28mself\u001b[39m._last_status_in_session[session] = rv\n\u001b[32m    251\u001b[39m \u001b[38;5;28;01mif\u001b[39;00m rv < \u001b[32m0\u001b[39m:\n\u001b[32m--> \u001b[39m\u001b[32m252\u001b[39m     \u001b[38;5;28;01mraise\u001b[39;00m errors.VisaIOError(rv)\n\u001b[32m    254\u001b[39m \u001b[38;5;28;01mif\u001b[39;00m rv \u001b[38;5;129;01min\u001b[39;00m \u001b[38;5;28mself\u001b[39m.issue_warning_on:\n\u001b[32m    255\u001b[39m     \u001b[38;5;28;01mif\u001b[39;00m session \u001b[38;5;129;01mand\u001b[39;00m rv \u001b[38;5;129;01mnot\u001b[39;00m \u001b[38;5;129;01min\u001b[39;00m \u001b[38;5;28mself\u001b[39m._ignore_warning_in_session[session]:\n",
      "\u001b[31mVisaIOError\u001b[39m: VI_ERROR_TMO (-1073807339): Timeout expired before operation completed."
     ]
    }
   ],
   "source": [
    "#values = inst.query_binary_values('CURV?', datatype='d', is_big_endian=True)\n",
    "values = inst.read_binary_values(datatype='H', is_big_endian=False, data_points=2, expect_termination=False)"
   ]
  },
  {
   "cell_type": "code",
   "execution_count": null,
   "id": "3c06a2ce-c373-4afe-b99d-36a6b97746e0",
   "metadata": {},
   "outputs": [],
   "source": []
  }
 ],
 "metadata": {
  "kernelspec": {
   "display_name": "Python 3 (ipykernel)",
   "language": "python",
   "name": "python3"
  },
  "language_info": {
   "codemirror_mode": {
    "name": "ipython",
    "version": 3
   },
   "file_extension": ".py",
   "mimetype": "text/x-python",
   "name": "python",
   "nbconvert_exporter": "python",
   "pygments_lexer": "ipython3",
   "version": "3.13.3"
  }
 },
 "nbformat": 4,
 "nbformat_minor": 5
}
